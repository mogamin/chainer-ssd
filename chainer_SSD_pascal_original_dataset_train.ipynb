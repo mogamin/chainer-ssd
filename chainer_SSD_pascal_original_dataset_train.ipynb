{
  "nbformat": 4,
  "nbformat_minor": 0,
  "metadata": {
    "colab": {
      "name": "chainer_SSD_pascal_original_dataset_train",
      "version": "0.3.2",
      "provenance": [],
      "include_colab_link": true
    },
    "kernelspec": {
      "name": "python3",
      "display_name": "Python 3"
    },
    "accelerator": "GPU"
  },
  "cells": [
    {
      "cell_type": "markdown",
      "metadata": {
        "id": "view-in-github",
        "colab_type": "text"
      },
      "source": [
        "[View in Colaboratory](https://colab.research.google.com/github/mogamin/chainer-ssd/blob/master/chainer_SSD_pascal_original_dataset_train.ipynb)"
      ]
    },
    {
      "metadata": {
        "id": "uBZHObTfFO8-",
        "colab_type": "code",
        "colab": {}
      },
      "cell_type": "code",
      "source": [
        "# chainer,chainercv,cudaののセットアップ\n",
        "!apt-get install -y -qq libcusparse8.0 libnvrtc8.0 libnvtoolsext1\n",
        "!ln -snf /usr/lib/x86_64-linux-gnu/libnvrtc-builtins.so.8.0 /usr/lib/x86_64-linux-gnu/libnvrtc-builtins.so\n",
        "!pip install cupy-cuda80==4.3.0 \n",
        "!pip install chainer==4.3.0\n",
        "!pip install chainercv\n",
        "\n",
        "!rm -rf result/"
      ],
      "execution_count": 0,
      "outputs": []
    },
    {
      "metadata": {
        "id": "G4USzz4cFh6c",
        "colab_type": "code",
        "colab": {
          "base_uri": "https://localhost:8080/",
          "height": 52
        },
        "outputId": "cc7a0412-c2a7-45c7-9494-ae7346cb05ed"
      },
      "cell_type": "code",
      "source": [
        "# GPU環境の確認\n",
        "import chainer\n",
        "print('GPU availability:', chainer.cuda.available)\n",
        "print('cuDNN availablility:', chainer.cuda.cudnn_enabled)"
      ],
      "execution_count": 2,
      "outputs": [
        {
          "output_type": "stream",
          "text": [
            "GPU availability: True\n",
            "cuDNN availablility: True\n"
          ],
          "name": "stdout"
        }
      ]
    },
    {
      "metadata": {
        "id": "DMeJ1uxOFkFe",
        "colab_type": "code",
        "colab": {}
      },
      "cell_type": "code",
      "source": [
        "# 乱数表の固定化\n",
        "import random\n",
        "import numpy as np\n",
        "\n",
        "RANDOM_SEED = 0\n",
        "random.seed(RANDOM_SEED)\n",
        "np.random.seed(RANDOM_SEED)\n",
        "if chainer.cuda.available:\n",
        "    chainer.cuda.cupy.random.seed(RANDOM_SEED)\n",
        "\n",
        "# 実行時間の生成\n",
        "import datetime\n",
        "now = (datetime.datetime.now() + datetime.timedelta(hours=+9)).strftime('%Y%m%d-%H%M%S')"
      ],
      "execution_count": 0,
      "outputs": []
    },
    {
      "metadata": {
        "id": "sJBfoXYBFpjj",
        "colab_type": "code",
        "colab": {}
      },
      "cell_type": "code",
      "source": [
        "import argparse\n",
        "import copy\n",
        "import numpy as np\n",
        "\n",
        "import chainer\n",
        "from chainer.datasets import ConcatenatedDataset\n",
        "from chainer.datasets import TransformDataset\n",
        "from chainer.optimizer_hooks import WeightDecay\n",
        "from chainer import serializers\n",
        "from chainer import training\n",
        "from chainer.training import extensions\n",
        "from chainer.training import triggers\n",
        "\n",
        "from chainercv.datasets import voc_bbox_label_names\n",
        "from chainercv.datasets import VOCBboxDataset\n",
        "from chainercv.extensions import DetectionVOCEvaluator\n",
        "from chainercv.links.model.ssd import GradientScaling\n",
        "from chainercv.links.model.ssd import multibox_loss\n",
        "from chainercv.links import SSD300\n",
        "from chainercv.links import SSD512\n",
        "from chainercv import transforms\n",
        "\n",
        "from chainercv.links.model.ssd import random_crop_with_bbox_constraints\n",
        "from chainercv.links.model.ssd import random_distort\n",
        "from chainercv.links.model.ssd import resize_with_random_interpolation"
      ],
      "execution_count": 0,
      "outputs": []
    },
    {
      "metadata": {
        "id": "O_0ETOfRFrV9",
        "colab_type": "code",
        "colab": {}
      },
      "cell_type": "code",
      "source": [
        "class MultiboxTrainChain(chainer.Chain):\n",
        "\n",
        "    def __init__(self, model, alpha=1, k=3):\n",
        "        super(MultiboxTrainChain, self).__init__()\n",
        "        with self.init_scope():\n",
        "            self.model = model\n",
        "        self.alpha = alpha\n",
        "        self.k = k\n",
        "\n",
        "    def __call__(self, imgs, gt_mb_locs, gt_mb_labels):\n",
        "        mb_locs, mb_confs = self.model(imgs)\n",
        "        loc_loss, conf_loss = multibox_loss(\n",
        "            mb_locs, mb_confs, gt_mb_locs, gt_mb_labels, self.k)\n",
        "        loss = loc_loss * self.alpha + conf_loss\n",
        "\n",
        "        chainer.reporter.report(\n",
        "            {'loss': loss, 'loss/loc': loc_loss, 'loss/conf': conf_loss},\n",
        "            self)\n",
        "\n",
        "        return loss"
      ],
      "execution_count": 0,
      "outputs": []
    },
    {
      "metadata": {
        "id": "Zn4-wBMQFtUa",
        "colab_type": "code",
        "colab": {}
      },
      "cell_type": "code",
      "source": [
        "class Transform(object):\n",
        "\n",
        "    def __init__(self, coder, size, mean):\n",
        "        # to send cpu, make a copy\n",
        "        self.coder = copy.copy(coder)\n",
        "        self.coder.to_cpu()\n",
        "\n",
        "        self.size = size\n",
        "        self.mean = mean\n",
        "\n",
        "    def __call__(self, in_data):\n",
        "        # There are five data augmentation steps\n",
        "        # 1. Color augmentation\n",
        "        # 2. Random expansion\n",
        "        # 3. Random cropping\n",
        "        # 4. Resizing with random interpolation\n",
        "        # 5. Random horizontal flipping\n",
        "\n",
        "        img, bbox, label = in_data\n",
        "\n",
        "        # 1. Color augmentation\n",
        "        img = random_distort(img)\n",
        "\n",
        "        # 2. Random expansion\n",
        "        if np.random.randint(2):\n",
        "            img, param = transforms.random_expand(img, fill=self.mean, return_param=True)\n",
        "            bbox = transforms.translate_bbox(\n",
        "                bbox, y_offset=param['y_offset'], x_offset=param['x_offset'])\n",
        "\n",
        "        # 3. Random cropping\n",
        "        img, param = random_crop_with_bbox_constraints(img, bbox, return_param=True)\n",
        "        bbox, param = transforms.crop_bbox(\n",
        "            bbox, y_slice=param['y_slice'], x_slice=param['x_slice'],\n",
        "            allow_outside_center=False, return_param=True)\n",
        "        label = label[param['index']]\n",
        "\n",
        "        # 4. Resizing with random interpolatation\n",
        "        _, H, W = img.shape\n",
        "        img = resize_with_random_interpolation(img, (self.size, self.size))\n",
        "        bbox = transforms.resize_bbox(bbox, (H, W), (self.size, self.size))\n",
        "\n",
        "        # 5. Random horizontal flipping\n",
        "        img, params = transforms.random_flip(img, x_random=True, return_param=True)\n",
        "        bbox = transforms.flip_bbox(bbox, (self.size, self.size), x_flip=params['x_flip'])\n",
        "\n",
        "        # Preparation for SSD network\n",
        "        img -= self.mean\n",
        "        mb_loc, mb_label = self.coder.encode(bbox, label)\n",
        "\n",
        "        return img, mb_loc, mb_label"
      ],
      "execution_count": 0,
      "outputs": []
    },
    {
      "metadata": {
        "id": "GbVm98uuFwlY",
        "colab_type": "code",
        "colab": {}
      },
      "cell_type": "code",
      "source": [
        "model = SSD300(n_fg_class=len(voc_bbox_label_names), pretrained_model='imagenet')\n",
        "model.use_preset('evaluate')\n",
        "train_chain = MultiboxTrainChain(model)\n",
        "chainer.cuda.get_device_from_id(0).use()\n",
        "model.to_gpu()"
      ],
      "execution_count": 0,
      "outputs": []
    },
    {
      "metadata": {
        "id": "BkBfdk75F0c-",
        "colab_type": "code",
        "colab": {}
      },
      "cell_type": "code",
      "source": [
        "BATCH_SIZE=32\n",
        "train = TransformDataset(\n",
        "    ConcatenatedDataset(\n",
        "        VOCBboxDataset(year='2007', split='trainval'),\n",
        "        VOCBboxDataset(year='2012', split='trainval')\n",
        "    ),\n",
        "    Transform(model.coder, model.insize, model.mean))\n",
        "train_iter = chainer.iterators.MultiprocessIterator(train, BATCH_SIZE)\n",
        "\n",
        "test = VOCBboxDataset(year='2007', split='test', use_difficult=True, return_difficult=True)\n",
        "test_iter = chainer.iterators.SerialIterator(test, BATCH_SIZE, repeat=False, shuffle=False)"
      ],
      "execution_count": 0,
      "outputs": []
    },
    {
      "metadata": {
        "id": "w99N2ftSGrEN",
        "colab_type": "code",
        "colab": {}
      },
      "cell_type": "code",
      "source": [
        "# initial lr is set to 1e-3 by ExponentialShift\n",
        "optimizer = chainer.optimizers.MomentumSGD()\n",
        "optimizer.setup(train_chain)\n",
        "for param in train_chain.params():\n",
        "    if param.name == 'b':\n",
        "        param.update_rule.add_hook(GradientScaling(2))\n",
        "    else:\n",
        "        param.update_rule.add_hook(WeightDecay(0.0005))"
      ],
      "execution_count": 0,
      "outputs": []
    },
    {
      "metadata": {
        "id": "UUGPabB5GvxZ",
        "colab_type": "code",
        "colab": {}
      },
      "cell_type": "code",
      "source": [
        "updater = training.updaters.StandardUpdater(train_iter, optimizer, device=0)\n",
        "trainer = training.Trainer(updater, (120000, 'iteration'), 'result/ssd')\n",
        "trainer.extend(\n",
        "    extensions.ExponentialShift('lr', 0.1, init=1e-3),\n",
        "    trigger=triggers.ManualScheduleTrigger([80000, 100000], 'iteration'))    "
      ],
      "execution_count": 0,
      "outputs": []
    },
    {
      "metadata": {
        "id": "Jf_N9TdDHJ3g",
        "colab_type": "code",
        "colab": {
          "base_uri": "https://localhost:8080/",
          "height": 774
        },
        "outputId": "ca9288d5-462d-4528-f82a-697ac930ab51"
      },
      "cell_type": "code",
      "source": [
        "trainer.extend(\n",
        "    DetectionVOCEvaluator(test_iter, model, use_07_metric=True, label_names=voc_bbox_label_names), trigger=(10000, 'iteration'))\n",
        "\n",
        "log_interval = 100, 'iteration'\n",
        "trainer.extend(extensions.LogReport(trigger=log_interval))\n",
        "trainer.extend(extensions.observe_lr(), trigger=log_interval)\n",
        "trainer.extend(extensions.PrintReport(['epoch', 'iteration', 'elapsed_time', 'lr','main/loss', 'main/loss/loc', 'main/loss/conf', 'validation/main/map']), trigger=log_interval)\n",
        "trainer.extend(extensions.ProgressBar(update_interval=1000))\n",
        "trainer.extend(extensions.snapshot(), trigger=(10000, 'iteration'))\n",
        "trainer.extend(extensions.snapshot_object(model, 'model_iter_{.updater.iteration}'), trigger=(500, 'iteration'))\n",
        "trainer.run()"
      ],
      "execution_count": 0,
      "outputs": [
        {
          "output_type": "stream",
          "text": [
            "epoch       iteration   elapsed_time  lr          main/loss   main/loss/loc  main/loss/conf  validation/main/map\n",
            "\u001b[J0           100         491.054       0.001       11.6906     2.76729        8.92335                              \n",
            "\u001b[J0           200         959.913       0.001       7.40011     2.38161        5.01849                              \n",
            "\u001b[J0           300         1429.23       0.001       6.93118     2.13107        4.8001                               \n",
            "\u001b[J0           400         1898.85       0.001       6.67732     1.97858        4.69874                              \n",
            "\u001b[J0           500         2368.19       0.001       6.45352     1.91192        4.54159                              \n",
            "\u001b[J1           600         2837.57       0.001       6.27616     1.86799        4.40818                              \n",
            "\u001b[J1           700         3306.91       0.001       6.07568     1.78058        4.2951                               \n",
            "\u001b[J1           800         3776.32       0.001       5.91677     1.73503        4.18174                              \n",
            "\u001b[J1           900         4245.64       0.001       5.71701     1.69073        4.02628                              \n",
            "\u001b[J1           1000        4715.08       0.001       5.73616     1.69156        4.0446                               \n",
            "\u001b[J     total [..................................................]  0.83%\n",
            "this epoch [##############################################....] 93.34%\n",
            "      1000 iter, 1 epoch / 120000 iterations\n",
            "       inf iters/sec. Estimated time to finish: 0:00:00.\n",
            "\u001b[4A\u001b[J2           1100        5184.45       0.001       5.50017     1.64352        3.85664                              \n",
            "\u001b[J2           1200        5654.05       0.001       5.40038     1.61337        3.78701                              \n",
            "\u001b[J2           1300        6123.63       0.001       5.30157     1.59052        3.71105                              \n",
            "\u001b[J2           1400        6593.31       0.001       5.27876     1.56929        3.70948                              \n",
            "\u001b[J2           1500        7063.39       0.001       5.14864     1.55393        3.5947                               \n",
            "\u001b[J3           1600        7532.81       0.001       5.10574     1.56721        3.53854                              \n",
            "\u001b[J3           1700        8002.94       0.001       4.90053     1.49854        3.40199                              \n",
            "\u001b[J3           1800        8472.22       0.001       4.93509     1.49545        3.43964                              \n",
            "\u001b[J3           1900        8942.33       0.001       4.94798     1.51424        3.43374                              \n",
            "\u001b[J3           2000        9411.5        0.001       4.86743     1.48633        3.38111                              \n",
            "\u001b[J     total [..................................................]  1.67%\n",
            "this epoch [###########################################.......] 86.68%\n",
            "      2000 iter, 3 epoch / 120000 iterations\n",
            "   0.21293 iters/sec. Estimated time to finish: 6 days, 9:56:17.153116.\n",
            "\u001b[4A\u001b[J4           2100        9880.84       0.001       4.79355     1.47455        3.31899                              \n",
            "\u001b[J4           2200        10349.8       0.001       4.72145     1.43916        3.28229                              \n",
            "\u001b[J4           2300        10819         0.001       4.7091      1.44243        3.26667                              \n",
            "\u001b[J4           2400        11288.3       0.001       4.58381     1.40225        3.18156                              \n",
            "\u001b[J4           2500        11757.2       0.001       4.62015     1.42972        3.19043                              \n",
            "\u001b[J5           2600        12226.4       0.001       4.59599     1.42489        3.1711                               \n",
            "\u001b[J5           2700        12695.4       0.001       4.5062      1.37978        3.12642                              \n",
            "\u001b[J5           2800        13164.8       0.001       4.42388     1.37357        3.05031                              \n",
            "\u001b[J5           2900        13634         0.001       4.41496     1.37605        3.03891                              \n",
            "\u001b[J5           3000        14102.8       0.001       4.46917     1.38954        3.07963                              \n",
            "\u001b[J     total [#.................................................]  2.50%\n",
            "this epoch [########################################..........] 80.03%\n",
            "      3000 iter, 5 epoch / 120000 iterations\n",
            "   0.21304 iters/sec. Estimated time to finish: 6 days, 8:33:01.834165.\n",
            "\u001b[4A\u001b[J5           3100        14571.7       0.001       4.36485     1.35157        3.01329                              \n"
          ],
          "name": "stdout"
        }
      ]
    }
  ]
}