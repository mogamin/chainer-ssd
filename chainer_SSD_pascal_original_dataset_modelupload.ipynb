{
  "nbformat": 4,
  "nbformat_minor": 0,
  "metadata": {
    "colab": {
      "name": "chainer_SSD_pascal_original_dataset_modelupload",
      "version": "0.3.2",
      "provenance": [],
      "include_colab_link": true
    },
    "kernelspec": {
      "name": "python3",
      "display_name": "Python 3"
    },
    "accelerator": "GPU"
  },
  "cells": [
    {
      "cell_type": "markdown",
      "metadata": {
        "id": "view-in-github",
        "colab_type": "text"
      },
      "source": [
        "[View in Colaboratory](https://colab.research.google.com/github/mogamin/chainer-ssd/blob/master/chainer_SSD_pascal_original_dataset_modelupload.ipynb)"
      ]
    },
    {
      "metadata": {
        "id": "g9P9ogElnn72",
        "colab_type": "code",
        "colab": {}
      },
      "cell_type": "code",
      "source": [
        "# Google Driveとの連携()\n",
        "import google.colab\n",
        "import googleapiclient.discovery\n",
        "import googleapiclient.http\n",
        "\n",
        "google.colab.auth.authenticate_user()\n",
        "drive_service = googleapiclient.discovery.build('drive', 'v3')"
      ],
      "execution_count": 0,
      "outputs": []
    },
    {
      "metadata": {
        "id": "xfFpIzpWrcZ1",
        "colab_type": "code",
        "colab": {}
      },
      "cell_type": "code",
      "source": [
        "# Google Driveへの書き出し\n",
        "def upload_2_gdrive(filepath, filename):\n",
        "  file_metadata = {\n",
        "    'name': filename,\n",
        "    'mimeType': 'application/octet-stream'\n",
        "  }\n",
        "  media = googleapiclient.http.MediaFileUpload(filepath, \n",
        "                          mimetype='application/octet-stream',\n",
        "                          resumable=True)\n",
        "  created = drive_service.files().create(body=file_metadata,\n",
        "                                         media_body=media,\n",
        "                                         fields='id').execute()  "
      ],
      "execution_count": 0,
      "outputs": []
    },
    {
      "metadata": {
        "id": "f9Pyp9q0q9Je",
        "colab_type": "code",
        "colab": {
          "base_uri": "https://localhost:8080/",
          "height": 241
        },
        "outputId": "ff135b4e-167a-436f-a936-3a72e7e4212a"
      },
      "cell_type": "code",
      "source": [
        "import time\n",
        "import datetime\n",
        "import os\n",
        "import glob\n",
        "\n",
        "while True:\n",
        "  now = (datetime.datetime.now() + datetime.timedelta(hours=+9)).strftime('%Y%m%d-%H%M%S')\n",
        "  path_list = glob.glob('result/ssd/model_*')\n",
        "  for name in path_list:\n",
        "    filepath = name\n",
        "    filename = os.path.basename(name)\n",
        "    filename = \"model_storedat_\"+now+\"_\"+filename\n",
        "    upload_2_gdrive(filepath, filename)\n",
        "    print(\"--uploaded:\", filename)\n",
        "  time.sleep(900)\n",
        " "
      ],
      "execution_count": 0,
      "outputs": [
        {
          "output_type": "stream",
          "text": [
            "--uploaded: model_storedat_20180831-160022_model_iter_1100\n",
            "--uploaded: model_storedat_20180831-160022_model_iter_800\n",
            "--uploaded: model_storedat_20180831-160022_model_iter_700\n",
            "--uploaded: model_storedat_20180831-160022_model_iter_500\n",
            "--uploaded: model_storedat_20180831-160022_model_iter_200\n",
            "--uploaded: model_storedat_20180831-160022_model_iter_100\n",
            "--uploaded: model_storedat_20180831-160022_model_iter_400\n",
            "--uploaded: model_storedat_20180831-160022_model_iter_900\n",
            "--uploaded: model_storedat_20180831-160022_model_iter_1200\n",
            "--uploaded: model_storedat_20180831-160022_model_iter_600\n",
            "--uploaded: model_storedat_20180831-160022_model_iter_300\n",
            "--uploaded: model_storedat_20180831-160022_model_iter_1000\n",
            "--uploaded: model_storedat_20180831-160022_model_iter_1300\n"
          ],
          "name": "stdout"
        }
      ]
    }
  ]
}