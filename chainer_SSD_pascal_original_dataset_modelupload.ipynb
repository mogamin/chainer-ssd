{
  "nbformat": 4,
  "nbformat_minor": 0,
  "metadata": {
    "colab": {
      "name": "chainer_SSD_pascal_original_dataset_modelupload",
      "version": "0.3.2",
      "provenance": [],
      "include_colab_link": true
    },
    "kernelspec": {
      "name": "python3",
      "display_name": "Python 3"
    },
    "accelerator": "GPU"
  },
  "cells": [
    {
      "cell_type": "markdown",
      "metadata": {
        "id": "view-in-github",
        "colab_type": "text"
      },
      "source": [
        "[View in Colaboratory](https://colab.research.google.com/github/mogamin/chainer-ssd/blob/master/chainer_SSD_pascal_original_dataset_modelupload.ipynb)"
      ]
    },
    {
      "metadata": {
        "id": "g9P9ogElnn72",
        "colab_type": "code",
        "colab": {}
      },
      "cell_type": "code",
      "source": [
        "# Google Driveとの連携()\n",
        "import google.colab\n",
        "import googleapiclient.discovery\n",
        "import googleapiclient.http\n",
        "\n",
        "google.colab.auth.authenticate_user()\n",
        "drive_service = googleapiclient.discovery.build('drive', 'v3')"
      ],
      "execution_count": 0,
      "outputs": []
    },
    {
      "metadata": {
        "id": "xfFpIzpWrcZ1",
        "colab_type": "code",
        "colab": {}
      },
      "cell_type": "code",
      "source": [
        "# create folder for GDrive\n",
        "def createfolder_2_gdrive(name):\n",
        "  file_metadata = {\n",
        "      'name': name,\n",
        "      'mimeType': 'application/vnd.google-apps.folder'\n",
        "  }\n",
        "  folder = drive_service.files().create(body=file_metadata, fields='id').execute()\n",
        "  return folder\n",
        "  \n",
        "# Output files for GDrive\n",
        "def uploadfile_2_gdrive(folderid, realpath, filename):\n",
        "  file_metadata = {\n",
        "    'name': filename,\n",
        "    'mimeType': 'application/octet-stream',\n",
        "    'parents': [folderid]\n",
        "  }\n",
        "  media = googleapiclient.http.MediaFileUpload(realpath, mimetype='application/octet-stream', resumable=True)\n",
        "  created = drive_service.files().create(body=file_metadata, media_body=media, fields='id').execute()"
      ],
      "execution_count": 0,
      "outputs": []
    },
    {
      "metadata": {
        "id": "f9Pyp9q0q9Je",
        "colab_type": "code",
        "colab": {
          "base_uri": "https://localhost:8080/",
          "height": 52
        },
        "outputId": "0ac59c7a-4cc6-4c93-d24b-a8dceabdd683"
      },
      "cell_type": "code",
      "source": [
        "import time\n",
        "import datetime\n",
        "import os\n",
        "import glob\n",
        "\n",
        "while True:\n",
        "  now = (datetime.datetime.now() + datetime.timedelta(hours=+9)).strftime('%Y%m%d-%H%M%S')\n",
        "  folder = createfolder_2_gdrive('models_'+now)\n",
        "  \n",
        "  path_list = glob.glob('result/ssd/model_*')\n",
        "  for name in path_list:\n",
        "    realpath = name\n",
        "    filename = os.path.basename(realpath)\n",
        "    uploadfile_2_gdrive(folder.get('id'), realpath, filename)\n",
        "  print(\"--uploaded:\", folder.get('name'))\n",
        "  time.sleep(900)\n",
        " "
      ],
      "execution_count": 0,
      "outputs": [
        {
          "output_type": "stream",
          "text": [
            "--uploaded: None\n",
            "--uploaded: None\n"
          ],
          "name": "stdout"
        }
      ]
    }
  ]
}